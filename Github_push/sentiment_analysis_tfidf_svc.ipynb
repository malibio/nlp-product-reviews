{
  "cells": [
    {
      "cell_type": "markdown",
      "id": "9996cf67",
      "metadata": {
        "id": "9996cf67"
      },
      "source": [
        "#  Amazon Review Sentiment Classification using TF-IDF and SVM\n",
        "\n",
        "\n"
      ]
    },
    {
      "cell_type": "markdown",
      "source": [
        "## Project Overview\n",
        "\n",
        "This project focuses on using NLP techniques to automatically classify Amazon customer reviews into sentiment categories. The goal is to understand how customers feel about products and services.\n",
        "\n",
        "We use a combination of **TF-IDF vectorization** and a **Support Vector Machine (SVM)** classifier to build an effective model.\n"
      ],
      "metadata": {
        "id": "CYcKnSgysLRQ"
      },
      "id": "CYcKnSgysLRQ"
    },
    {
      "cell_type": "markdown",
      "source": [
        "## 🎯 Project Goals and Approach\n",
        "\n",
        "Our goal is to classify Amazon product reviews into Positive, Neutral, and Negative sentiments to gain actionable customer insights. To achieve this:\n",
        "\n",
        "- We assign initial sentiment labels based on star ratings and refine them using VADER sentiment analysis for better context understanding.\n",
        "- Review texts are converted into numerical features using **TF-IDF vectorization**.\n",
        "- A **Support Vector Classifier (SVC)** with a linear kernel is trained, with `class_weight='balanced'` to handle class imbalances fairly.\n",
        "- We evaluate the model using accuracy, F1-score, and confusion matrices.\n",
        "- Finally, we generate a structured output dataset containing predicted sentiments and confidence scores, ready for further analysis or integration.\n"
      ],
      "metadata": {
        "id": "Zp590be_sWGr"
      },
      "id": "Zp590be_sWGr"
    },
    {
      "cell_type": "code",
      "execution_count": 1,
      "id": "mYPoJ0o5M90U",
      "metadata": {
        "colab": {
          "base_uri": "https://localhost:8080/"
        },
        "id": "mYPoJ0o5M90U",
        "outputId": "771b8e0a-8293-4f96-f65c-33921308ac28"
      },
      "outputs": [
        {
          "output_type": "stream",
          "name": "stdout",
          "text": [
            "Requirement already satisfied: vaderSentiment in /usr/local/lib/python3.11/dist-packages (3.3.2)\n",
            "Requirement already satisfied: requests in /usr/local/lib/python3.11/dist-packages (from vaderSentiment) (2.32.3)\n",
            "Requirement already satisfied: charset-normalizer<4,>=2 in /usr/local/lib/python3.11/dist-packages (from requests->vaderSentiment) (3.4.2)\n",
            "Requirement already satisfied: idna<4,>=2.5 in /usr/local/lib/python3.11/dist-packages (from requests->vaderSentiment) (3.10)\n",
            "Requirement already satisfied: urllib3<3,>=1.21.1 in /usr/local/lib/python3.11/dist-packages (from requests->vaderSentiment) (2.4.0)\n",
            "Requirement already satisfied: certifi>=2017.4.17 in /usr/local/lib/python3.11/dist-packages (from requests->vaderSentiment) (2025.4.26)\n"
          ]
        }
      ],
      "source": [
        "# Cell 1: Install VADER Sentiment Analyzer\n",
        "# This cell installs the vaderSentiment library, which is used for lexicon-based sentiment analysis.\n",
        "!pip install vaderSentiment"
      ]
    },
    {
      "cell_type": "code",
      "execution_count": 2,
      "id": "f7ecd859",
      "metadata": {
        "id": "f7ecd859"
      },
      "outputs": [],
      "source": [
        "# Cell 2: Import Libraries\n",
        "# This cell imports all the necessary Python libraries for data manipulation,\n",
        "# machine learning, natural language processing, and visualization.\n",
        "import pandas as pd # For data manipulation and analysis\n",
        "import numpy as np # For numerical operations, especially with arrays\n",
        "from sklearn.model_selection import train_test_split # For splitting data into training and testing sets\n",
        "from sklearn.linear_model import LogisticRegression # Although LogisticRegression was mentioned in description, SVC is used later\n",
        "from sklearn.metrics import confusion_matrix, accuracy_score, f1_score, classification_report # For model evaluation\n",
        "import seaborn as sns # For enhanced data visualization\n",
        "import matplotlib.pyplot as plt # For plotting and visualizing data\n",
        "from vaderSentiment.vaderSentiment import SentimentIntensityAnalyzer # Specifically for VADER sentiment analysis\n",
        "from sklearn.utils import resample # For resampling techniques, useful for handling class imbalance (though SVC's class_weight is used)\n",
        "from sklearn.preprocessing import LabelEncoder # For encoding categorical labels into numerical format (if needed, not explicitly used for y)\n",
        "\n"
      ]
    },
    {
      "cell_type": "markdown",
      "id": "6f282637",
      "metadata": {
        "id": "6f282637"
      },
      "source": [
        "## STEP 1: Load and Inspect Dataset"
      ]
    },
    {
      "cell_type": "code",
      "execution_count": 3,
      "id": "9159e688",
      "metadata": {
        "colab": {
          "base_uri": "https://localhost:8080/"
        },
        "id": "9159e688",
        "outputId": "d9d6c98f-f19b-423c-e761-c97cc375bbe3"
      },
      "outputs": [
        {
          "output_type": "stream",
          "name": "stdout",
          "text": [
            "Dataset shape: (34660, 21)\n",
            "Columns: ['id', 'name', 'asins', 'brand', 'categories', 'keys', 'manufacturer', 'reviews.date', 'reviews.dateAdded', 'reviews.dateSeen', 'reviews.didPurchase', 'reviews.doRecommend', 'reviews.id', 'reviews.numHelpful', 'reviews.rating', 'reviews.sourceURLs', 'reviews.text', 'reviews.title', 'reviews.userCity', 'reviews.userProvince', 'reviews.username']\n",
            "\n",
            "First few rows:\n",
            "                     id                                               name  \\\n",
            "0  AVqkIhwDv8e3D1O-lebb  All-New Fire HD 8 Tablet, 8 HD Display, Wi-Fi,...   \n",
            "1  AVqkIhwDv8e3D1O-lebb  All-New Fire HD 8 Tablet, 8 HD Display, Wi-Fi,...   \n",
            "2  AVqkIhwDv8e3D1O-lebb  All-New Fire HD 8 Tablet, 8 HD Display, Wi-Fi,...   \n",
            "3  AVqkIhwDv8e3D1O-lebb  All-New Fire HD 8 Tablet, 8 HD Display, Wi-Fi,...   \n",
            "\n",
            "        asins   brand                                         categories  \\\n",
            "0  B01AHB9CN2  Amazon  Electronics,iPad & Tablets,All Tablets,Fire Ta...   \n",
            "1  B01AHB9CN2  Amazon  Electronics,iPad & Tablets,All Tablets,Fire Ta...   \n",
            "2  B01AHB9CN2  Amazon  Electronics,iPad & Tablets,All Tablets,Fire Ta...   \n",
            "3  B01AHB9CN2  Amazon  Electronics,iPad & Tablets,All Tablets,Fire Ta...   \n",
            "\n",
            "                                                keys manufacturer  \\\n",
            "0  841667104676,amazon/53004484,amazon/b01ahb9cn2...       Amazon   \n",
            "1  841667104676,amazon/53004484,amazon/b01ahb9cn2...       Amazon   \n",
            "2  841667104676,amazon/53004484,amazon/b01ahb9cn2...       Amazon   \n",
            "3  841667104676,amazon/53004484,amazon/b01ahb9cn2...       Amazon   \n",
            "\n",
            "               reviews.date     reviews.dateAdded  \\\n",
            "0  2017-01-13T00:00:00.000Z  2017-07-03T23:33:15Z   \n",
            "1  2017-01-13T00:00:00.000Z  2017-07-03T23:33:15Z   \n",
            "2  2017-01-13T00:00:00.000Z  2017-07-03T23:33:15Z   \n",
            "3  2017-01-13T00:00:00.000Z  2017-07-03T23:33:15Z   \n",
            "\n",
            "                                    reviews.dateSeen  ... reviews.doRecommend  \\\n",
            "0  2017-06-07T09:04:00.000Z,2017-04-30T00:45:00.000Z  ...                True   \n",
            "1  2017-06-07T09:04:00.000Z,2017-04-30T00:45:00.000Z  ...                True   \n",
            "2  2017-06-07T09:04:00.000Z,2017-04-30T00:45:00.000Z  ...                True   \n",
            "3  2017-06-07T09:04:00.000Z,2017-04-30T00:45:00.000Z  ...                True   \n",
            "\n",
            "  reviews.id  reviews.numHelpful  reviews.rating  \\\n",
            "0        NaN                 0.0             5.0   \n",
            "1        NaN                 0.0             5.0   \n",
            "2        NaN                 0.0             5.0   \n",
            "3        NaN                 0.0             4.0   \n",
            "\n",
            "                                  reviews.sourceURLs  \\\n",
            "0  http://reviews.bestbuy.com/3545/5620406/review...   \n",
            "1  http://reviews.bestbuy.com/3545/5620406/review...   \n",
            "2  http://reviews.bestbuy.com/3545/5620406/review...   \n",
            "3  http://reviews.bestbuy.com/3545/5620406/review...   \n",
            "\n",
            "                                        reviews.text  \\\n",
            "0  This product so far has not disappointed. My c...   \n",
            "1  great for beginner or experienced person. Boug...   \n",
            "2  Inexpensive tablet for him to use and learn on...   \n",
            "3  I've had my Fire HD 8 two weeks now and I love...   \n",
            "\n",
            "                             reviews.title reviews.userCity  \\\n",
            "0                                   Kindle              NaN   \n",
            "1                                very fast              NaN   \n",
            "2  Beginner tablet for our 9 year old son.              NaN   \n",
            "3                                  Good!!!              NaN   \n",
            "\n",
            "   reviews.userProvince  reviews.username  \n",
            "0                   NaN           Adapter  \n",
            "1                   NaN            truman  \n",
            "2                   NaN             DaveZ  \n",
            "3                   NaN            Shacks  \n",
            "\n",
            "[4 rows x 21 columns]\n"
          ]
        }
      ],
      "source": [
        "import pandas as pd\n",
        "\n",
        "# Load dataset\n",
        "df = pd.read_csv(\"/content/1429_1.csv\",low_memory=False)\n",
        "\n",
        "# Basic info about the dataset\n",
        "print(f\"Dataset shape: {df.shape}\")\n",
        "print(f\"Columns: {list(df.columns)}\")\n",
        "print(\"\\nFirst few rows:\")\n",
        "print(df.head(4))\n"
      ]
    },
    {
      "cell_type": "code",
      "execution_count": 4,
      "id": "bffcf306",
      "metadata": {
        "colab": {
          "base_uri": "https://localhost:8080/"
        },
        "id": "bffcf306",
        "outputId": "d527d202-4e32-423c-b8e7-63acd29f2d99"
      },
      "outputs": [
        {
          "output_type": "stream",
          "name": "stdout",
          "text": [
            "   reviews.rating                                       reviews.text\n",
            "0             5.0  This product so far has not disappointed. My c...\n",
            "1             5.0  great for beginner or experienced person. Boug...\n",
            "2             5.0  Inexpensive tablet for him to use and learn on...\n",
            "3             4.0  I've had my Fire HD 8 two weeks now and I love...\n",
            "4             5.0  I bought this for my grand daughter when she c...\n"
          ]
        }
      ],
      "source": [
        "# Look at the key columns\n",
        "print(df[['reviews.rating', 'reviews.text']].head())"
      ]
    },
    {
      "cell_type": "markdown",
      "id": "eb5314e7",
      "metadata": {
        "id": "eb5314e7"
      },
      "source": [
        "## Step 2: Create Initial Sentiment Labels from Ratings"
      ]
    },
    {
      "cell_type": "code",
      "execution_count": 5,
      "id": "1190c0af",
      "metadata": {
        "id": "1190c0af"
      },
      "outputs": [],
      "source": [
        "def rating_to_sentiment(rating):\n",
        "    if rating >= 4:\n",
        "        return 'positive'\n",
        "    elif rating == 3:\n",
        "        return 'neutral'\n",
        "    else:\n",
        "        return 'negative'\n",
        "\n",
        "df['sentiment'] = df['reviews.rating'].apply(rating_to_sentiment)\n"
      ]
    },
    {
      "cell_type": "markdown",
      "source": [
        "# Step 3: VADER Sentiment Analysis and Label Reconciliation"
      ],
      "metadata": {
        "id": "pjpwWZ-VvrbB"
      },
      "id": "pjpwWZ-VvrbB"
    },
    {
      "cell_type": "code",
      "execution_count": 10,
      "id": "b39d29a0",
      "metadata": {
        "colab": {
          "base_uri": "https://localhost:8080/"
        },
        "id": "b39d29a0",
        "outputId": "217db6b4-2258-4642-afa8-ba034b4c6694"
      },
      "outputs": [
        {
          "output_type": "stream",
          "name": "stdout",
          "text": [
            "Number of label mismatches: 4396\n",
            "                                                                                                                                                         reviews.text  \\\n",
            "10                                                                                                               Not easy for elderly users cease of ads that pop up.   \n",
            "17  I really like this tablet. I would have given 5 stars but sometimes you have to push start several times after you unlock the screen and it is a little annoying.   \n",
            "53                                                                                                            This fire tablet has long battery life. Reasonable fast   \n",
            "\n",
            "    reviews.rating sentiment vader_sentiment  \n",
            "10             4.0  positive        negative  \n",
            "17             4.0  positive        negative  \n",
            "53             4.0  positive        negative  \n",
            "final_label\n",
            "positive    31252\n",
            "negative     1895\n",
            "neutral      1513\n",
            "Name: count, dtype: int64\n"
          ]
        }
      ],
      "source": [
        "from vaderSentiment.vaderSentiment import SentimentIntensityAnalyzer\n",
        "\n",
        "# Initialize analyzer\n",
        "analyzer = SentimentIntensityAnalyzer()\n",
        "\n",
        "# Labeling function using VADER\n",
        "def vader_label(text):\n",
        "    scores = analyzer.polarity_scores(str(text))\n",
        "    compound = scores['compound']\n",
        "    if compound >= 0.05:\n",
        "        return 'positive'\n",
        "    elif compound <= -0.05:\n",
        "        return 'negative'\n",
        "    else:\n",
        "        return 'neutral'\n",
        "\n",
        "# Apply VADER sentiment analysis to the actual review text\n",
        "df['vader_sentiment'] = df['reviews.text'].apply(vader_label)\n",
        "\n",
        "# Check mismatches between VADER sentiment and original label\n",
        "mismatches = df[df['vader_sentiment'] != df['sentiment']]\n",
        "print(f\"Number of label mismatches: {len(mismatches)}\")\n",
        "\n",
        "# This ensures that long text in the 'reviews.text' column is not truncated.\n",
        "pd.set_option('display.max_colwidth', None)\n",
        "\n",
        "display_mismatches = mismatches[['reviews.text', 'reviews.rating', 'sentiment', 'vader_sentiment']]\n",
        "print(display_mismatches.head(3))\n",
        "\n",
        "# Optionally trust VADER sentiment over original labels\n",
        "df['final_label'] = df['vader_sentiment']\n",
        "\n",
        "# See distribution of final labels\n",
        "print(df['final_label'].value_counts())\n",
        "\n"
      ]
    },
    {
      "cell_type": "markdown",
      "source": [
        "#Step 4: Feature Extraction using TF-IDF"
      ],
      "metadata": {
        "id": "RMEQ7QjC7ebw"
      },
      "id": "RMEQ7QjC7ebw"
    },
    {
      "cell_type": "code",
      "execution_count": 16,
      "id": "435441f7",
      "metadata": {
        "id": "435441f7"
      },
      "outputs": [],
      "source": [
        "df['reviews.text'] = df['reviews.text'].replace(np.nan, '')\n",
        "from sklearn.feature_extraction.text import TfidfVectorizer\n",
        "vectorizer = TfidfVectorizer(max_features=5000)\n",
        "X = vectorizer.fit_transform(df['reviews.text'])\n",
        "y = df['final_label']"
      ]
    },
    {
      "cell_type": "markdown",
      "source": [
        "#Step 5: Train test split"
      ],
      "metadata": {
        "id": "0NxKiQ6m7xzh"
      },
      "id": "0NxKiQ6m7xzh"
    },
    {
      "cell_type": "code",
      "execution_count": 17,
      "id": "1a72bf33",
      "metadata": {
        "colab": {
          "base_uri": "https://localhost:8080/"
        },
        "id": "1a72bf33",
        "outputId": "95512274-360f-42f2-c725-bf70f8185b29"
      },
      "outputs": [
        {
          "output_type": "stream",
          "name": "stdout",
          "text": [
            "Shape of X_train: (27728, 5000)\n",
            "Shape of X_test: (6932, 5000)\n",
            "Shape of y_train: (27728,)\n",
            "Shape of y_test: (6932,)\n"
          ]
        }
      ],
      "source": [
        "X_train, X_test, y_train, y_test = train_test_split(\n",
        "    X, y, test_size=0.2, random_state=42, stratify=y\n",
        ")\n",
        "\n",
        "print(f\"Shape of X_train: {X_train.shape}\")\n",
        "print(f\"Shape of X_test: {X_test.shape}\")\n",
        "print(f\"Shape of y_train: {y_train.shape}\")\n",
        "print(f\"Shape of y_test: {y_test.shape}\")"
      ]
    },
    {
      "cell_type": "markdown",
      "source": [
        "#Step 6: Model Training and Prediction(Support Vector Classifier - SVC)"
      ],
      "metadata": {
        "id": "8Tri7sN18Oq-"
      },
      "id": "8Tri7sN18Oq-"
    },
    {
      "cell_type": "code",
      "execution_count": 18,
      "id": "e5d3cb54",
      "metadata": {
        "colab": {
          "base_uri": "https://localhost:8080/",
          "height": 115
        },
        "id": "e5d3cb54",
        "outputId": "65186b86-b314-4b52-98f9-c29f5d422923"
      },
      "outputs": [
        {
          "output_type": "stream",
          "name": "stdout",
          "text": [
            "\n",
            "Training the SVC model...\n"
          ]
        },
        {
          "output_type": "execute_result",
          "data": {
            "text/plain": [
              "SVC(class_weight='balanced', kernel='linear', probability=True, random_state=42)"
            ],
            "text/html": [
              "<style>#sk-container-id-1 {\n",
              "  /* Definition of color scheme common for light and dark mode */\n",
              "  --sklearn-color-text: #000;\n",
              "  --sklearn-color-text-muted: #666;\n",
              "  --sklearn-color-line: gray;\n",
              "  /* Definition of color scheme for unfitted estimators */\n",
              "  --sklearn-color-unfitted-level-0: #fff5e6;\n",
              "  --sklearn-color-unfitted-level-1: #f6e4d2;\n",
              "  --sklearn-color-unfitted-level-2: #ffe0b3;\n",
              "  --sklearn-color-unfitted-level-3: chocolate;\n",
              "  /* Definition of color scheme for fitted estimators */\n",
              "  --sklearn-color-fitted-level-0: #f0f8ff;\n",
              "  --sklearn-color-fitted-level-1: #d4ebff;\n",
              "  --sklearn-color-fitted-level-2: #b3dbfd;\n",
              "  --sklearn-color-fitted-level-3: cornflowerblue;\n",
              "\n",
              "  /* Specific color for light theme */\n",
              "  --sklearn-color-text-on-default-background: var(--sg-text-color, var(--theme-code-foreground, var(--jp-content-font-color1, black)));\n",
              "  --sklearn-color-background: var(--sg-background-color, var(--theme-background, var(--jp-layout-color0, white)));\n",
              "  --sklearn-color-border-box: var(--sg-text-color, var(--theme-code-foreground, var(--jp-content-font-color1, black)));\n",
              "  --sklearn-color-icon: #696969;\n",
              "\n",
              "  @media (prefers-color-scheme: dark) {\n",
              "    /* Redefinition of color scheme for dark theme */\n",
              "    --sklearn-color-text-on-default-background: var(--sg-text-color, var(--theme-code-foreground, var(--jp-content-font-color1, white)));\n",
              "    --sklearn-color-background: var(--sg-background-color, var(--theme-background, var(--jp-layout-color0, #111)));\n",
              "    --sklearn-color-border-box: var(--sg-text-color, var(--theme-code-foreground, var(--jp-content-font-color1, white)));\n",
              "    --sklearn-color-icon: #878787;\n",
              "  }\n",
              "}\n",
              "\n",
              "#sk-container-id-1 {\n",
              "  color: var(--sklearn-color-text);\n",
              "}\n",
              "\n",
              "#sk-container-id-1 pre {\n",
              "  padding: 0;\n",
              "}\n",
              "\n",
              "#sk-container-id-1 input.sk-hidden--visually {\n",
              "  border: 0;\n",
              "  clip: rect(1px 1px 1px 1px);\n",
              "  clip: rect(1px, 1px, 1px, 1px);\n",
              "  height: 1px;\n",
              "  margin: -1px;\n",
              "  overflow: hidden;\n",
              "  padding: 0;\n",
              "  position: absolute;\n",
              "  width: 1px;\n",
              "}\n",
              "\n",
              "#sk-container-id-1 div.sk-dashed-wrapped {\n",
              "  border: 1px dashed var(--sklearn-color-line);\n",
              "  margin: 0 0.4em 0.5em 0.4em;\n",
              "  box-sizing: border-box;\n",
              "  padding-bottom: 0.4em;\n",
              "  background-color: var(--sklearn-color-background);\n",
              "}\n",
              "\n",
              "#sk-container-id-1 div.sk-container {\n",
              "  /* jupyter's `normalize.less` sets `[hidden] { display: none; }`\n",
              "     but bootstrap.min.css set `[hidden] { display: none !important; }`\n",
              "     so we also need the `!important` here to be able to override the\n",
              "     default hidden behavior on the sphinx rendered scikit-learn.org.\n",
              "     See: https://github.com/scikit-learn/scikit-learn/issues/21755 */\n",
              "  display: inline-block !important;\n",
              "  position: relative;\n",
              "}\n",
              "\n",
              "#sk-container-id-1 div.sk-text-repr-fallback {\n",
              "  display: none;\n",
              "}\n",
              "\n",
              "div.sk-parallel-item,\n",
              "div.sk-serial,\n",
              "div.sk-item {\n",
              "  /* draw centered vertical line to link estimators */\n",
              "  background-image: linear-gradient(var(--sklearn-color-text-on-default-background), var(--sklearn-color-text-on-default-background));\n",
              "  background-size: 2px 100%;\n",
              "  background-repeat: no-repeat;\n",
              "  background-position: center center;\n",
              "}\n",
              "\n",
              "/* Parallel-specific style estimator block */\n",
              "\n",
              "#sk-container-id-1 div.sk-parallel-item::after {\n",
              "  content: \"\";\n",
              "  width: 100%;\n",
              "  border-bottom: 2px solid var(--sklearn-color-text-on-default-background);\n",
              "  flex-grow: 1;\n",
              "}\n",
              "\n",
              "#sk-container-id-1 div.sk-parallel {\n",
              "  display: flex;\n",
              "  align-items: stretch;\n",
              "  justify-content: center;\n",
              "  background-color: var(--sklearn-color-background);\n",
              "  position: relative;\n",
              "}\n",
              "\n",
              "#sk-container-id-1 div.sk-parallel-item {\n",
              "  display: flex;\n",
              "  flex-direction: column;\n",
              "}\n",
              "\n",
              "#sk-container-id-1 div.sk-parallel-item:first-child::after {\n",
              "  align-self: flex-end;\n",
              "  width: 50%;\n",
              "}\n",
              "\n",
              "#sk-container-id-1 div.sk-parallel-item:last-child::after {\n",
              "  align-self: flex-start;\n",
              "  width: 50%;\n",
              "}\n",
              "\n",
              "#sk-container-id-1 div.sk-parallel-item:only-child::after {\n",
              "  width: 0;\n",
              "}\n",
              "\n",
              "/* Serial-specific style estimator block */\n",
              "\n",
              "#sk-container-id-1 div.sk-serial {\n",
              "  display: flex;\n",
              "  flex-direction: column;\n",
              "  align-items: center;\n",
              "  background-color: var(--sklearn-color-background);\n",
              "  padding-right: 1em;\n",
              "  padding-left: 1em;\n",
              "}\n",
              "\n",
              "\n",
              "/* Toggleable style: style used for estimator/Pipeline/ColumnTransformer box that is\n",
              "clickable and can be expanded/collapsed.\n",
              "- Pipeline and ColumnTransformer use this feature and define the default style\n",
              "- Estimators will overwrite some part of the style using the `sk-estimator` class\n",
              "*/\n",
              "\n",
              "/* Pipeline and ColumnTransformer style (default) */\n",
              "\n",
              "#sk-container-id-1 div.sk-toggleable {\n",
              "  /* Default theme specific background. It is overwritten whether we have a\n",
              "  specific estimator or a Pipeline/ColumnTransformer */\n",
              "  background-color: var(--sklearn-color-background);\n",
              "}\n",
              "\n",
              "/* Toggleable label */\n",
              "#sk-container-id-1 label.sk-toggleable__label {\n",
              "  cursor: pointer;\n",
              "  display: flex;\n",
              "  width: 100%;\n",
              "  margin-bottom: 0;\n",
              "  padding: 0.5em;\n",
              "  box-sizing: border-box;\n",
              "  text-align: center;\n",
              "  align-items: start;\n",
              "  justify-content: space-between;\n",
              "  gap: 0.5em;\n",
              "}\n",
              "\n",
              "#sk-container-id-1 label.sk-toggleable__label .caption {\n",
              "  font-size: 0.6rem;\n",
              "  font-weight: lighter;\n",
              "  color: var(--sklearn-color-text-muted);\n",
              "}\n",
              "\n",
              "#sk-container-id-1 label.sk-toggleable__label-arrow:before {\n",
              "  /* Arrow on the left of the label */\n",
              "  content: \"▸\";\n",
              "  float: left;\n",
              "  margin-right: 0.25em;\n",
              "  color: var(--sklearn-color-icon);\n",
              "}\n",
              "\n",
              "#sk-container-id-1 label.sk-toggleable__label-arrow:hover:before {\n",
              "  color: var(--sklearn-color-text);\n",
              "}\n",
              "\n",
              "/* Toggleable content - dropdown */\n",
              "\n",
              "#sk-container-id-1 div.sk-toggleable__content {\n",
              "  max-height: 0;\n",
              "  max-width: 0;\n",
              "  overflow: hidden;\n",
              "  text-align: left;\n",
              "  /* unfitted */\n",
              "  background-color: var(--sklearn-color-unfitted-level-0);\n",
              "}\n",
              "\n",
              "#sk-container-id-1 div.sk-toggleable__content.fitted {\n",
              "  /* fitted */\n",
              "  background-color: var(--sklearn-color-fitted-level-0);\n",
              "}\n",
              "\n",
              "#sk-container-id-1 div.sk-toggleable__content pre {\n",
              "  margin: 0.2em;\n",
              "  border-radius: 0.25em;\n",
              "  color: var(--sklearn-color-text);\n",
              "  /* unfitted */\n",
              "  background-color: var(--sklearn-color-unfitted-level-0);\n",
              "}\n",
              "\n",
              "#sk-container-id-1 div.sk-toggleable__content.fitted pre {\n",
              "  /* unfitted */\n",
              "  background-color: var(--sklearn-color-fitted-level-0);\n",
              "}\n",
              "\n",
              "#sk-container-id-1 input.sk-toggleable__control:checked~div.sk-toggleable__content {\n",
              "  /* Expand drop-down */\n",
              "  max-height: 200px;\n",
              "  max-width: 100%;\n",
              "  overflow: auto;\n",
              "}\n",
              "\n",
              "#sk-container-id-1 input.sk-toggleable__control:checked~label.sk-toggleable__label-arrow:before {\n",
              "  content: \"▾\";\n",
              "}\n",
              "\n",
              "/* Pipeline/ColumnTransformer-specific style */\n",
              "\n",
              "#sk-container-id-1 div.sk-label input.sk-toggleable__control:checked~label.sk-toggleable__label {\n",
              "  color: var(--sklearn-color-text);\n",
              "  background-color: var(--sklearn-color-unfitted-level-2);\n",
              "}\n",
              "\n",
              "#sk-container-id-1 div.sk-label.fitted input.sk-toggleable__control:checked~label.sk-toggleable__label {\n",
              "  background-color: var(--sklearn-color-fitted-level-2);\n",
              "}\n",
              "\n",
              "/* Estimator-specific style */\n",
              "\n",
              "/* Colorize estimator box */\n",
              "#sk-container-id-1 div.sk-estimator input.sk-toggleable__control:checked~label.sk-toggleable__label {\n",
              "  /* unfitted */\n",
              "  background-color: var(--sklearn-color-unfitted-level-2);\n",
              "}\n",
              "\n",
              "#sk-container-id-1 div.sk-estimator.fitted input.sk-toggleable__control:checked~label.sk-toggleable__label {\n",
              "  /* fitted */\n",
              "  background-color: var(--sklearn-color-fitted-level-2);\n",
              "}\n",
              "\n",
              "#sk-container-id-1 div.sk-label label.sk-toggleable__label,\n",
              "#sk-container-id-1 div.sk-label label {\n",
              "  /* The background is the default theme color */\n",
              "  color: var(--sklearn-color-text-on-default-background);\n",
              "}\n",
              "\n",
              "/* On hover, darken the color of the background */\n",
              "#sk-container-id-1 div.sk-label:hover label.sk-toggleable__label {\n",
              "  color: var(--sklearn-color-text);\n",
              "  background-color: var(--sklearn-color-unfitted-level-2);\n",
              "}\n",
              "\n",
              "/* Label box, darken color on hover, fitted */\n",
              "#sk-container-id-1 div.sk-label.fitted:hover label.sk-toggleable__label.fitted {\n",
              "  color: var(--sklearn-color-text);\n",
              "  background-color: var(--sklearn-color-fitted-level-2);\n",
              "}\n",
              "\n",
              "/* Estimator label */\n",
              "\n",
              "#sk-container-id-1 div.sk-label label {\n",
              "  font-family: monospace;\n",
              "  font-weight: bold;\n",
              "  display: inline-block;\n",
              "  line-height: 1.2em;\n",
              "}\n",
              "\n",
              "#sk-container-id-1 div.sk-label-container {\n",
              "  text-align: center;\n",
              "}\n",
              "\n",
              "/* Estimator-specific */\n",
              "#sk-container-id-1 div.sk-estimator {\n",
              "  font-family: monospace;\n",
              "  border: 1px dotted var(--sklearn-color-border-box);\n",
              "  border-radius: 0.25em;\n",
              "  box-sizing: border-box;\n",
              "  margin-bottom: 0.5em;\n",
              "  /* unfitted */\n",
              "  background-color: var(--sklearn-color-unfitted-level-0);\n",
              "}\n",
              "\n",
              "#sk-container-id-1 div.sk-estimator.fitted {\n",
              "  /* fitted */\n",
              "  background-color: var(--sklearn-color-fitted-level-0);\n",
              "}\n",
              "\n",
              "/* on hover */\n",
              "#sk-container-id-1 div.sk-estimator:hover {\n",
              "  /* unfitted */\n",
              "  background-color: var(--sklearn-color-unfitted-level-2);\n",
              "}\n",
              "\n",
              "#sk-container-id-1 div.sk-estimator.fitted:hover {\n",
              "  /* fitted */\n",
              "  background-color: var(--sklearn-color-fitted-level-2);\n",
              "}\n",
              "\n",
              "/* Specification for estimator info (e.g. \"i\" and \"?\") */\n",
              "\n",
              "/* Common style for \"i\" and \"?\" */\n",
              "\n",
              ".sk-estimator-doc-link,\n",
              "a:link.sk-estimator-doc-link,\n",
              "a:visited.sk-estimator-doc-link {\n",
              "  float: right;\n",
              "  font-size: smaller;\n",
              "  line-height: 1em;\n",
              "  font-family: monospace;\n",
              "  background-color: var(--sklearn-color-background);\n",
              "  border-radius: 1em;\n",
              "  height: 1em;\n",
              "  width: 1em;\n",
              "  text-decoration: none !important;\n",
              "  margin-left: 0.5em;\n",
              "  text-align: center;\n",
              "  /* unfitted */\n",
              "  border: var(--sklearn-color-unfitted-level-1) 1pt solid;\n",
              "  color: var(--sklearn-color-unfitted-level-1);\n",
              "}\n",
              "\n",
              ".sk-estimator-doc-link.fitted,\n",
              "a:link.sk-estimator-doc-link.fitted,\n",
              "a:visited.sk-estimator-doc-link.fitted {\n",
              "  /* fitted */\n",
              "  border: var(--sklearn-color-fitted-level-1) 1pt solid;\n",
              "  color: var(--sklearn-color-fitted-level-1);\n",
              "}\n",
              "\n",
              "/* On hover */\n",
              "div.sk-estimator:hover .sk-estimator-doc-link:hover,\n",
              ".sk-estimator-doc-link:hover,\n",
              "div.sk-label-container:hover .sk-estimator-doc-link:hover,\n",
              ".sk-estimator-doc-link:hover {\n",
              "  /* unfitted */\n",
              "  background-color: var(--sklearn-color-unfitted-level-3);\n",
              "  color: var(--sklearn-color-background);\n",
              "  text-decoration: none;\n",
              "}\n",
              "\n",
              "div.sk-estimator.fitted:hover .sk-estimator-doc-link.fitted:hover,\n",
              ".sk-estimator-doc-link.fitted:hover,\n",
              "div.sk-label-container:hover .sk-estimator-doc-link.fitted:hover,\n",
              ".sk-estimator-doc-link.fitted:hover {\n",
              "  /* fitted */\n",
              "  background-color: var(--sklearn-color-fitted-level-3);\n",
              "  color: var(--sklearn-color-background);\n",
              "  text-decoration: none;\n",
              "}\n",
              "\n",
              "/* Span, style for the box shown on hovering the info icon */\n",
              ".sk-estimator-doc-link span {\n",
              "  display: none;\n",
              "  z-index: 9999;\n",
              "  position: relative;\n",
              "  font-weight: normal;\n",
              "  right: .2ex;\n",
              "  padding: .5ex;\n",
              "  margin: .5ex;\n",
              "  width: min-content;\n",
              "  min-width: 20ex;\n",
              "  max-width: 50ex;\n",
              "  color: var(--sklearn-color-text);\n",
              "  box-shadow: 2pt 2pt 4pt #999;\n",
              "  /* unfitted */\n",
              "  background: var(--sklearn-color-unfitted-level-0);\n",
              "  border: .5pt solid var(--sklearn-color-unfitted-level-3);\n",
              "}\n",
              "\n",
              ".sk-estimator-doc-link.fitted span {\n",
              "  /* fitted */\n",
              "  background: var(--sklearn-color-fitted-level-0);\n",
              "  border: var(--sklearn-color-fitted-level-3);\n",
              "}\n",
              "\n",
              ".sk-estimator-doc-link:hover span {\n",
              "  display: block;\n",
              "}\n",
              "\n",
              "/* \"?\"-specific style due to the `<a>` HTML tag */\n",
              "\n",
              "#sk-container-id-1 a.estimator_doc_link {\n",
              "  float: right;\n",
              "  font-size: 1rem;\n",
              "  line-height: 1em;\n",
              "  font-family: monospace;\n",
              "  background-color: var(--sklearn-color-background);\n",
              "  border-radius: 1rem;\n",
              "  height: 1rem;\n",
              "  width: 1rem;\n",
              "  text-decoration: none;\n",
              "  /* unfitted */\n",
              "  color: var(--sklearn-color-unfitted-level-1);\n",
              "  border: var(--sklearn-color-unfitted-level-1) 1pt solid;\n",
              "}\n",
              "\n",
              "#sk-container-id-1 a.estimator_doc_link.fitted {\n",
              "  /* fitted */\n",
              "  border: var(--sklearn-color-fitted-level-1) 1pt solid;\n",
              "  color: var(--sklearn-color-fitted-level-1);\n",
              "}\n",
              "\n",
              "/* On hover */\n",
              "#sk-container-id-1 a.estimator_doc_link:hover {\n",
              "  /* unfitted */\n",
              "  background-color: var(--sklearn-color-unfitted-level-3);\n",
              "  color: var(--sklearn-color-background);\n",
              "  text-decoration: none;\n",
              "}\n",
              "\n",
              "#sk-container-id-1 a.estimator_doc_link.fitted:hover {\n",
              "  /* fitted */\n",
              "  background-color: var(--sklearn-color-fitted-level-3);\n",
              "}\n",
              "</style><div id=\"sk-container-id-1\" class=\"sk-top-container\"><div class=\"sk-text-repr-fallback\"><pre>SVC(class_weight=&#x27;balanced&#x27;, kernel=&#x27;linear&#x27;, probability=True, random_state=42)</pre><b>In a Jupyter environment, please rerun this cell to show the HTML representation or trust the notebook. <br />On GitHub, the HTML representation is unable to render, please try loading this page with nbviewer.org.</b></div><div class=\"sk-container\" hidden><div class=\"sk-item\"><div class=\"sk-estimator fitted sk-toggleable\"><input class=\"sk-toggleable__control sk-hidden--visually\" id=\"sk-estimator-id-1\" type=\"checkbox\" checked><label for=\"sk-estimator-id-1\" class=\"sk-toggleable__label fitted sk-toggleable__label-arrow\"><div><div>SVC</div></div><div><a class=\"sk-estimator-doc-link fitted\" rel=\"noreferrer\" target=\"_blank\" href=\"https://scikit-learn.org/1.6/modules/generated/sklearn.svm.SVC.html\">?<span>Documentation for SVC</span></a><span class=\"sk-estimator-doc-link fitted\">i<span>Fitted</span></span></div></label><div class=\"sk-toggleable__content fitted\"><pre>SVC(class_weight=&#x27;balanced&#x27;, kernel=&#x27;linear&#x27;, probability=True, random_state=42)</pre></div> </div></div></div></div>"
            ]
          },
          "metadata": {},
          "execution_count": 18
        }
      ],
      "source": [
        "from sklearn.svm import SVC\n",
        "from sklearn.metrics import classification_report, accuracy_score\n",
        "svc_model = SVC(kernel='linear', probability=True, random_state=42,class_weight='balanced')\n",
        "\n",
        "print(\"\\nTraining the SVC model...\")\n",
        "svc_model.fit(X_train, y_train)"
      ]
    },
    {
      "cell_type": "code",
      "execution_count": 19,
      "id": "11ca4fd1",
      "metadata": {
        "colab": {
          "base_uri": "https://localhost:8080/"
        },
        "id": "11ca4fd1",
        "outputId": "109b4522-77a9-4cfc-f9f4-6e3bb8a8c414"
      },
      "outputs": [
        {
          "output_type": "stream",
          "name": "stdout",
          "text": [
            "\n",
            "Model Evaluation:\n",
            "Accuracy: 0.8568\n",
            "\n",
            "Classification Report:\n",
            "              precision    recall  f1-score   support\n",
            "\n",
            "    negative       0.32      0.71      0.44       379\n",
            "     neutral       0.36      0.65      0.46       303\n",
            "    positive       0.99      0.88      0.93      6250\n",
            "\n",
            "    accuracy                           0.86      6932\n",
            "   macro avg       0.56      0.74      0.61      6932\n",
            "weighted avg       0.92      0.86      0.88      6932\n",
            "\n"
          ]
        }
      ],
      "source": [
        "y_pred = svc_model.predict(X_test)\n",
        "\n",
        "# 4. Evaluate the model's performance\n",
        "print(\"\\nModel Evaluation:\")\n",
        "print(f\"Accuracy: {accuracy_score(y_test, y_pred):.4f}\")\n",
        "print(\"\\nClassification Report:\")\n",
        "print(classification_report(y_test, y_pred))"
      ]
    },
    {
      "cell_type": "markdown",
      "source": [
        "# Step 7: Model evaluation and results"
      ],
      "metadata": {
        "id": "ir1MydWd8plM"
      },
      "id": "ir1MydWd8plM"
    },
    {
      "cell_type": "code",
      "source": [
        "\n",
        "# Calculate the confusion matrix\n",
        "from sklearn.metrics import confusion_matrix, ConfusionMatrixDisplay\n",
        "class_labels = svc_model.classes_\n",
        "cm = confusion_matrix(y_test, y_pred, labels=class_labels)\n",
        "# Display the confusion matrix with sentiment names\n",
        "disp = ConfusionMatrixDisplay(confusion_matrix=cm, display_labels=class_labels)\n",
        "disp.plot(cmap=plt.cm.Blues)\n",
        "plt.title('Confusion Matrix with Sentiment Names')\n",
        "plt.xlabel('Predicted Label')\n",
        "plt.ylabel('True Label')\n",
        "plt.show()\n"
      ],
      "metadata": {
        "colab": {
          "base_uri": "https://localhost:8080/",
          "height": 472
        },
        "id": "vRdb327Dp73U",
        "outputId": "46bc066a-f03b-4b12-c828-815529f7f5e1"
      },
      "id": "vRdb327Dp73U",
      "execution_count": null,
      "outputs": [
        {
          "output_type": "display_data",
          "data": {
            "text/plain": [
              "<Figure size 640x480 with 2 Axes>"
            ],
            "image/png": "[encoded data removed]"
          },
          "metadata": {}
        }
      ]
    },
    {
      "cell_type": "code",
      "execution_count": 20,
      "id": "203dd49c",
      "metadata": {
        "colab": {
          "base_uri": "https://localhost:8080/"
        },
        "id": "203dd49c",
        "outputId": "ce57435d-7a3e-45eb-8f4a-171442c2f143"
      },
      "outputs": [
        {
          "output_type": "stream",
          "name": "stdout",
          "text": [
            "\n",
            "Successfully generated 'product_reviews_sentiment_and_confidence.csv' with sentiment and confidence scores.\n",
            "Preview of the generated CSV file (first 5 rows):\n",
            "             product_id  \\\n",
            "0  AVqkIhwDv8e3D1O-lebb   \n",
            "1  AVqkIhwDv8e3D1O-lebb   \n",
            "2  AVqkIhwDv8e3D1O-lebb   \n",
            "3  AVqkIhwDv8e3D1O-lebb   \n",
            "4  AVqkIhwDv8e3D1O-lebb   \n",
            "\n",
            "                                                                                                                                                                                                                                                                                                                                                                                                                                                                                                                                                                                                                            reviews.text  \\\n",
            "0                                                                                                                                                                                                                                                                                                                                                                                                                                                                                        This product so far has not disappointed. My children love to use it and I like the ability to monitor control what content they see with ease.   \n",
            "1                                                                                                                                                                                                                                                                                                                                                                                                                                                                                                                                                            great for beginner or experienced person. Bought as a gift and she loves it   \n",
            "2                                                                                                                                                                                                                                                                                                                                                                                                                                                                                                    Inexpensive tablet for him to use and learn on, step up from the NABI. He was thrilled with it, learn how to Skype on it already...   \n",
            "3                      I've had my Fire HD 8 two weeks now and I love it. This tablet is a great value.We are Prime Members and that is where this tablet SHINES. I love being able to easily access all of the Prime content as well as movies you can download and watch laterThis has a 1280/800 screen which has some really nice look to it its nice and crisp and very bright infact it is brighter then the ipad pro costing $900 base model. The build on this fire is INSANELY AWESOME running at only 7.7mm thick and the smooth glossy feel on the back it is really amazing to hold its like the futuristic tab in ur hands.   \n",
            "4  I bought this for my grand daughter when she comes over to visit. I set it up with her as the user, entered her age and name and now Amazon makes sure that she only accesses sites and content that are appropriate to her age. Simple to do and she loves the capabilities. I also bought and installed a 64gig SD card which gives this little tablet plenty of storage. For the price I think this tablet is best one out there. You can spend hundreds of dollars more for additional speed and capacity but when it comes to the basics this tablets does everything that most people will ever need at a fraction of the cost.   \n",
            "\n",
            "   rating original_sentiment_from_rating predicted_sentiment_SVC  \\\n",
            "0     5.0                       positive                positive   \n",
            "1     5.0                       positive                positive   \n",
            "2     5.0                       positive                negative   \n",
            "3     4.0                       positive                positive   \n",
            "4     5.0                       positive                positive   \n",
            "\n",
            "   prediction_confidence  \n",
            "0               0.967506  \n",
            "1               1.000000  \n",
            "2               0.125113  \n",
            "3               0.999995  \n",
            "4               0.985518  \n"
          ]
        }
      ],
      "source": [
        "# 1. Get predicted sentiment for the entire dataset using the trained SVC model\n",
        "all_predicted_sentiment = svc_model.predict(X)\n",
        "\n",
        "# 2. Get probabilities for the entire dataset\n",
        "# This array will have a column for each class (e.g., [proba_negative, proba_neutral, proba_positive])\n",
        "all_probabilities = svc_model.predict_proba(X)\n",
        "\n",
        "# 3. Determine the confidence score for each prediction\n",
        "# The confidence score is the probability of the *predicted* class\n",
        "confidence_scores = []\n",
        "class_labels = svc_model.classes_ # Get the order of classes from the model (e.g., ['negative', 'neutral', 'positive'])\n",
        "\n",
        "for i, pred_sentiment in enumerate(all_predicted_sentiment):\n",
        "    # Find the index of the predicted sentiment in the class_labels array\n",
        "    # e.g., if pred_sentiment is 'positive' and class_labels is ['negative', 'neutral', 'positive'],\n",
        "    # then predicted_class_index will be 2\n",
        "    predicted_class_index = list(class_labels).index(pred_sentiment)\n",
        "\n",
        "    # Get the probability for that specific predicted class for the current review\n",
        "    confidence = all_probabilities[i, predicted_class_index]\n",
        "    confidence_scores.append(confidence)\n",
        "\n",
        "# 4. Create the final DataFrame for export\n",
        "results_df = pd.DataFrame({\n",
        "    # IMPORTANT: Replace 'your_product_id_column_name' with the actual column name from your original df\n",
        "    # e.g., if it's 'id', use df['id']\n",
        "    # If there's no such column, you can use df.index like: 'product_index': df.index\n",
        "    'product_id': df['id'], # <--- **ADJUST THIS LINE**\n",
        "    'reviews.text': df['reviews.text'],\n",
        "    'rating': df['reviews.rating'],\n",
        "    'original_sentiment_from_rating': df['sentiment'], # This is your initial rule-based sentiment\n",
        "    'predicted_sentiment_SVC': all_predicted_sentiment, # Sentiment predicted by the SVC model\n",
        "    'prediction_confidence': confidence_scores # Confidence for the predicted sentiment\n",
        "})\n",
        "\n",
        "# 5. Export to CSV\n",
        "output_filename = 'product_reviews_sentiment_and_confidence.csv'\n",
        "results_df.to_csv(output_filename, index=False) # index=False prevents writing DataFrame index as a column\n",
        "\n",
        "print(f\"\\nSuccessfully generated '{output_filename}' with sentiment and confidence scores.\")\n",
        "print(f\"Preview of the generated CSV file (first 5 rows):\\n{results_df.head()}\")"
      ]
    },
    {
      "cell_type": "markdown",
      "id": "3222f9f2",
      "metadata": {
        "id": "3222f9f2"
      },
      "source": []
    },
    {
      "cell_type": "markdown",
      "source": [
        "##  Summary\n",
        "\n",
        "This notebook presents a sentiment analysis pipeline for Amazon product reviews using Natural Language Processing (NLP) techniques and machine learning models.\n",
        "\n",
        "- Star ratings were used to generate initial sentiment labels (positive, neutral, negative).\n",
        "- VADER sentiment analysis helped refine those labels to better reflect the actual sentiment expressed in review texts.\n",
        "- TF-IDF vectorization was applied to convert text into numerical features.\n",
        "- A Support Vector Classifier (SVC) with a linear kernel and `class_weight='balanced'` was trained on the dataset.\n",
        "- Model performance was evaluated using accuracy, F1-score, and a confusion matrix.\n",
        "- Undersampling was experimented with to balance the class distribution, but due to the limited size of minority classes, it reduced the dataset to ~1,500 samples and degraded performance.\n",
        "- A deep learning approach using DistilBERT was explored in a separate notebook for improved text understanding (not covered here).\n",
        "- A CSV file containing review text, predicted sentiment, and confidence scores was generated for downstream use.\n",
        "\n",
        "---\n",
        "\n",
        "##  Results\n",
        "\n",
        "The TF-IDF + SVC model achieved:\n",
        "\n",
        "- **Accuracy:** **85.68%**\n",
        "- **Classification Report:**\n",
        "\n",
        "Classification Report:\n",
        "              precision    recall  f1-score   support\n",
        "\n",
        "    negative       0.32      0.71      0.44       379\n",
        "     neutral       0.36      0.65      0.46       303\n",
        "    positive       0.99      0.88      0.93      6250\n",
        "\n",
        "    accuracy                           0.86      6932\n",
        "    macro avg       0.56      0.74      0.61      6932\n",
        "    weighted avg    0.92      0.86      0.88      6932\n",
        "\n"
      ],
      "metadata": {
        "id": "2z6JDWTtGcag"
      },
      "id": "2z6JDWTtGcag"
    },
    {
      "cell_type": "markdown",
      "source": [
        "### 📊 Classification Report Summary\n",
        "\n",
        "- **Positive (majority class)**:\n",
        "  - High precision (0.99) and recall (0.88) → model performs very well here.\n",
        "- **Neutral & Negative (minority classes)**:\n",
        "  - Low precision (0.36 & 0.32) → many false positives.\n",
        "  - Decent recall (0.65 & 0.71) → model finds most true samples but misclassifies others as them.\n",
        "- **Macro Avg F1-score: 0.61** → Shows poor performance on minority classes.\n",
        "- **Weighted Avg F1-score: 0.88** and **accuracy: 86%** are inflated by class imbalance.\n",
        "\n",
        "⚠️ **Key Issue**: Model is biased toward the positive class. It struggles to correctly identify neutral and negative reviews — needs balancing.\n"
      ],
      "metadata": {
        "id": "su6OKICeHI7x"
      },
      "id": "su6OKICeHI7x"
    },
    {
      "cell_type": "code",
      "source": [],
      "metadata": {
        "id": "5z2AxZvHori3"
      },
      "id": "5z2AxZvHori3",
      "execution_count": null,
      "outputs": []
    }
  ],
  "metadata": {
    "colab": {
      "provenance": [],
      "gpuType": "T4"
    },
    "kernelspec": {
      "display_name": "Python 3",
      "name": "python3"
    },
    "language_info": {
      "codemirror_mode": {
        "name": "ipython",
        "version": 3
      },
      "file_extension": ".py",
      "mimetype": "text/x-python",
      "name": "python",
      "nbconvert_exporter": "python",
      "pygments_lexer": "ipython3",
      "version": "3.11.5"
    },
    "accelerator": "GPU"
  },
  "nbformat": 4,
  "nbformat_minor": 5
}